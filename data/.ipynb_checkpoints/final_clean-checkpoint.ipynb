{
 "cells": [
  {
   "cell_type": "code",
   "execution_count": 2,
   "id": "c3e32d42",
   "metadata": {},
   "outputs": [],
   "source": [
    "# import libraries\n",
    "import pandas as pd\n",
    "import numpy as np\n",
    "import re\n",
    "import csv\n",
    "import nltk"
   ]
  },
  {
   "cell_type": "code",
   "execution_count": 17,
   "id": "a5010459",
   "metadata": {
    "scrolled": false
   },
   "outputs": [
    {
     "data": {
      "text/html": [
       "<div>\n",
       "<style scoped>\n",
       "    .dataframe tbody tr th:only-of-type {\n",
       "        vertical-align: middle;\n",
       "    }\n",
       "\n",
       "    .dataframe tbody tr th {\n",
       "        vertical-align: top;\n",
       "    }\n",
       "\n",
       "    .dataframe thead th {\n",
       "        text-align: right;\n",
       "    }\n",
       "</style>\n",
       "<table border=\"1\" class=\"dataframe\">\n",
       "  <thead>\n",
       "    <tr style=\"text-align: right;\">\n",
       "      <th></th>\n",
       "      <th>id</th>\n",
       "      <th>charity_name</th>\n",
       "      <th>logo</th>\n",
       "      <th>rating</th>\n",
       "      <th>financial_transparency</th>\n",
       "      <th>results_reporting</th>\n",
       "      <th>cents_to_cause</th>\n",
       "      <th>city</th>\n",
       "      <th>province</th>\n",
       "      <th>website</th>\n",
       "      <th>Tel</th>\n",
       "      <th>main_category</th>\n",
       "      <th>sub_category</th>\n",
       "      <th>new_overview</th>\n",
       "      <th>new_results_and_impact</th>\n",
       "    </tr>\n",
       "  </thead>\n",
       "  <tbody>\n",
       "    <tr>\n",
       "      <th>0</th>\n",
       "      <td>1</td>\n",
       "      <td>Moisson Mauricie / Centre-du-Qubec</td>\n",
       "      <td>https://scontent.fykz1-1.fna.fbcdn.net/v/t39.3...</td>\n",
       "      <td>4</td>\n",
       "      <td>0</td>\n",
       "      <td>A</td>\n",
       "      <td>97%</td>\n",
       "      <td>Trois-Rivieres</td>\n",
       "      <td>QC</td>\n",
       "      <td>www.moisson-mcdq.org</td>\n",
       "      <td>819-371-7778</td>\n",
       "      <td>Social Services</td>\n",
       "      <td>Food Bank (Distributor)</td>\n",
       "      <td>Moisson Mauricie is a 4-star rated charity tha...</td>\n",
       "      <td>In F2022, Moisson Mauricie reports that for ev...</td>\n",
       "    </tr>\n",
       "    <tr>\n",
       "      <th>1</th>\n",
       "      <td>2</td>\n",
       "      <td>Acadia University</td>\n",
       "      <td>https://www.charityintelligence.ca/media/chari...</td>\n",
       "      <td>4</td>\n",
       "      <td>2</td>\n",
       "      <td>B</td>\n",
       "      <td>82%</td>\n",
       "      <td>Wolfville</td>\n",
       "      <td>NS</td>\n",
       "      <td>www2.acadiau.ca</td>\n",
       "      <td>902 542-2201</td>\n",
       "      <td>Education</td>\n",
       "      <td>University</td>\n",
       "      <td>Acadia University is a 4-star charity with an ...</td>\n",
       "      <td>The University states that the average earning...</td>\n",
       "    </tr>\n",
       "    <tr>\n",
       "      <th>2</th>\n",
       "      <td>3</td>\n",
       "      <td>Against Malaria Foundation Canada</td>\n",
       "      <td>https://www.charityintelligence.ca/media/chari...</td>\n",
       "      <td>4</td>\n",
       "      <td>0</td>\n",
       "      <td>A</td>\n",
       "      <td>100%</td>\n",
       "      <td>Toronto</td>\n",
       "      <td>ON</td>\n",
       "      <td>www.againstmalaria.com</td>\n",
       "      <td>207-371-8735</td>\n",
       "      <td>International Aid</td>\n",
       "      <td>Healthcare and Medical Services</td>\n",
       "      <td>Against Malaria Foundation Canada is a 4-star ...</td>\n",
       "      <td>In September 2016, Against Malaria Foundation ...</td>\n",
       "    </tr>\n",
       "    <tr>\n",
       "      <th>3</th>\n",
       "      <td>4</td>\n",
       "      <td>Agincourt Community Services Association</td>\n",
       "      <td>https://www.agincourtcommunityservices.com/sit...</td>\n",
       "      <td>4</td>\n",
       "      <td>1</td>\n",
       "      <td>B-</td>\n",
       "      <td>88%</td>\n",
       "      <td>Toronto</td>\n",
       "      <td>ON</td>\n",
       "      <td>www.agincourtcommunityservices.com</td>\n",
       "      <td>416-292-6912</td>\n",
       "      <td>Social Services</td>\n",
       "      <td>Homelessness and housing assistance</td>\n",
       "      <td>Agincourt Community Services Association is a ...</td>\n",
       "      <td>In F2021, the Financial Empowerment and Proble...</td>\n",
       "    </tr>\n",
       "    <tr>\n",
       "      <th>4</th>\n",
       "      <td>5</td>\n",
       "      <td>Alberta Animal Rescue Crew Society</td>\n",
       "      <td>https://www.charityintelligence.ca/media/chari...</td>\n",
       "      <td>5</td>\n",
       "      <td>2</td>\n",
       "      <td>A</td>\n",
       "      <td>73%</td>\n",
       "      <td>Calgary</td>\n",
       "      <td>AB</td>\n",
       "      <td>https://aarcs.ca/</td>\n",
       "      <td>403-250-7377</td>\n",
       "      <td>Animal Welfare</td>\n",
       "      <td>Animal shelters, animal adoption, medical trea...</td>\n",
       "      <td>Founded in 2006 and based in Calgary, Alberta ...</td>\n",
       "      <td>AARCS reports 1,114 dogs, 1,706 cats, and 51 s...</td>\n",
       "    </tr>\n",
       "  </tbody>\n",
       "</table>\n",
       "</div>"
      ],
      "text/plain": [
       "   id                              charity_name  \\\n",
       "0   1       Moisson Mauricie / Centre-du-Qubec   \n",
       "1   2                         Acadia University   \n",
       "2   3         Against Malaria Foundation Canada   \n",
       "3   4  Agincourt Community Services Association   \n",
       "4   5        Alberta Animal Rescue Crew Society   \n",
       "\n",
       "                                                logo  rating  \\\n",
       "0  https://scontent.fykz1-1.fna.fbcdn.net/v/t39.3...       4   \n",
       "1  https://www.charityintelligence.ca/media/chari...       4   \n",
       "2  https://www.charityintelligence.ca/media/chari...       4   \n",
       "3  https://www.agincourtcommunityservices.com/sit...       4   \n",
       "4  https://www.charityintelligence.ca/media/chari...       5   \n",
       "\n",
       "   financial_transparency results_reporting cents_to_cause            city  \\\n",
       "0                       0                 A            97%  Trois-Rivieres   \n",
       "1                       2                 B            82%       Wolfville   \n",
       "2                       0                 A           100%         Toronto   \n",
       "3                       1                B-            88%         Toronto   \n",
       "4                       2                 A            73%         Calgary   \n",
       "\n",
       "  province                             website           Tel  \\\n",
       "0       QC                www.moisson-mcdq.org  819-371-7778   \n",
       "1       NS                     www2.acadiau.ca  902 542-2201   \n",
       "2       ON              www.againstmalaria.com  207-371-8735   \n",
       "3       ON  www.agincourtcommunityservices.com  416-292-6912   \n",
       "4       AB                   https://aarcs.ca/  403-250-7377   \n",
       "\n",
       "       main_category                                       sub_category  \\\n",
       "0    Social Services                            Food Bank (Distributor)   \n",
       "1          Education                                         University   \n",
       "2  International Aid                    Healthcare and Medical Services   \n",
       "3    Social Services                Homelessness and housing assistance   \n",
       "4     Animal Welfare  Animal shelters, animal adoption, medical trea...   \n",
       "\n",
       "                                        new_overview  \\\n",
       "0  Moisson Mauricie is a 4-star rated charity tha...   \n",
       "1  Acadia University is a 4-star charity with an ...   \n",
       "2  Against Malaria Foundation Canada is a 4-star ...   \n",
       "3  Agincourt Community Services Association is a ...   \n",
       "4  Founded in 2006 and based in Calgary, Alberta ...   \n",
       "\n",
       "                              new_results_and_impact  \n",
       "0  In F2022, Moisson Mauricie reports that for ev...  \n",
       "1  The University states that the average earning...  \n",
       "2  In September 2016, Against Malaria Foundation ...  \n",
       "3  In F2021, the Financial Empowerment and Proble...  \n",
       "4  AARCS reports 1,114 dogs, 1,706 cats, and 51 s...  "
      ]
     },
     "execution_count": 17,
     "metadata": {},
     "output_type": "execute_result"
    }
   ],
   "source": [
    "# import data\n",
    "data = pd.read_csv(\"clean_data.csv\", encoding='unicode_escape')\n",
    "data.head()"
   ]
  },
  {
   "cell_type": "code",
   "execution_count": 19,
   "id": "59dd3d62",
   "metadata": {
    "scrolled": true
   },
   "outputs": [
    {
     "name": "stderr",
     "output_type": "stream",
     "text": [
      "[nltk_data] Downloading package punkt to /Users/nadinelin/nltk_data...\n",
      "[nltk_data]   Unzipping tokenizers/punkt.zip.\n"
     ]
    },
    {
     "data": {
      "text/plain": [
       "True"
      ]
     },
     "execution_count": 19,
     "metadata": {},
     "output_type": "execute_result"
    }
   ],
   "source": [
    "nltk.download('punkt')"
   ]
  },
  {
   "cell_type": "code",
   "execution_count": 35,
   "id": "fc5c3d37",
   "metadata": {},
   "outputs": [],
   "source": [
    "# Remove Ci\n",
    "def remove_sentences_with_words(text, word):\n",
    "    sentences = re.split(r'(?<=[.!?])\\s+', text)\n",
    "    filtered_sentences = [sentence for sentence in sentences if word not in sentence]\n",
    "    cleaned_text = ' '.join(filtered_sentences)\n",
    "    return cleaned_text\n",
    "\n",
    "\n",
    "# Specify the column containing text data\n",
    "text_column = 'new_overview'  \n",
    "word_to_remove = \"Ci\"\n",
    "\n",
    "# Apply the cleaning function to each row in the specified column\n",
    "data[text_column] = data[text_column].apply(lambda x: remove_sentences_with_words(x, word_to_remove))\n",
    "\n",
    "data.to_csv('cleaned_v2.csv', index=False)"
   ]
  },
  {
   "cell_type": "code",
   "execution_count": 42,
   "id": "382d28c5",
   "metadata": {
    "scrolled": true
   },
   "outputs": [],
   "source": [
    "final_data = pd.read_csv(\"cleaned_v2.csv\")"
   ]
  },
  {
   "cell_type": "code",
   "execution_count": 37,
   "id": "8f69c0c6",
   "metadata": {},
   "outputs": [],
   "source": [
    "# Remove Ci's\n",
    "def remove_sentences_with_words(text, word):\n",
    "    sentences = re.split(r'(?<=[.!?])\\s+', text)\n",
    "    filtered_sentences = [sentence for sentence in sentences if word not in sentence]\n",
    "    cleaned_text = ' '.join(filtered_sentences)\n",
    "    return cleaned_text\n",
    "\n",
    "\n",
    "# Specify the column containing text data\n",
    "text_column = 'new_overview' \n",
    "word_to_remove = \"Ci's\"\n",
    "\n",
    "# Apply the cleaning function to each row in the specified column\n",
    "final_data[text_column] = final_data[text_column].apply(lambda x: remove_sentences_with_words(x, word_to_remove))\n",
    "\n",
    "# Save the cleaned DataFrame to a new CSV file\n",
    "final_data.to_csv('cleaned_v3.csv', index=False)"
   ]
  },
  {
   "cell_type": "code",
   "execution_count": 40,
   "id": "a23e8a91",
   "metadata": {},
   "outputs": [
    {
     "name": "stdout",
     "output_type": "stream",
     "text": [
      "DataFrame converted to CSV and saved successfully.\n"
     ]
    }
   ],
   "source": [
    "# Remove weird characters\n",
    "final_final_data = pd.read_csv(\"cleaned_v3.csv\")\n",
    "final_final_data['new_overview'] = final_final_data['new_overview'].str.replace('â', \"'\").str.replace('Â', '')\n",
    "final_final_data['new_results_and_impact'] = final_final_data['new_overview'].str.replace('â', \"'\").str.replace('Â', '')\n",
    "final_final_data['city'] = final_final_data['city'].str.replace('â', \"'\").str.replace('Â', '')\n",
    "\n",
    "csv_filename = 'final_final.csv'\n",
    "final_final_data.to_csv(csv_filename, index=False)\n",
    "\n",
    "print(\"DataFrame converted to CSV and saved successfully.\")"
   ]
  },
  {
   "cell_type": "code",
   "execution_count": 3,
   "id": "f16741f1",
   "metadata": {},
   "outputs": [],
   "source": [
    "last_clean = pd.read_csv(\"final_final.csv\")"
   ]
  },
  {
   "cell_type": "code",
   "execution_count": 18,
   "id": "c86260c7",
   "metadata": {},
   "outputs": [],
   "source": [
    "# Remove Charity Intelligence\n",
    "def remove_sentences_with_words(text, word):\n",
    "    sentences = re.split(r'(?<=[.!?])\\s+', text)\n",
    "    filtered_sentences = [sentence for sentence in sentences if word not in sentence]\n",
    "    cleaned_text = ' '.join(filtered_sentences)\n",
    "    return cleaned_text\n",
    "\n",
    "\n",
    "# Specify the column containing text data\n",
    "text_column = 'new_overview' \n",
    "word_to_remove = \"Charity Intelligence\"\n",
    "\n",
    "# Apply the cleaning function to each row in the specified column\n",
    "last_clean[text_column] = last_clean[text_column].apply(lambda x: remove_sentences_with_words(x, word_to_remove))"
   ]
  },
  {
   "cell_type": "code",
   "execution_count": 19,
   "id": "0bdeb277",
   "metadata": {},
   "outputs": [],
   "source": [
    "# Remove Charity Intelligence\n",
    "def remove_sentences_with_words(text, word):\n",
    "    sentences = re.split(r'(?<=[.!?])\\s+', text)\n",
    "    filtered_sentences = [sentence for sentence in sentences if word not in sentence]\n",
    "    cleaned_text = ' '.join(filtered_sentences)\n",
    "    return cleaned_text\n",
    "\n",
    "\n",
    "# Specify the column containing text data\n",
    "text_column = 'new_results_and_impact' \n",
    "word_to_remove = \"Charity Intelligence\"\n",
    "\n",
    "# Apply the cleaning function to each row in the specified column\n",
    "last_clean[text_column] = last_clean[text_column].apply(lambda x: remove_sentences_with_words(x, word_to_remove))"
   ]
  },
  {
   "cell_type": "code",
   "execution_count": 20,
   "id": "549a7eed",
   "metadata": {},
   "outputs": [],
   "source": [
    "# Map letter grades to numeric values\n",
    "grade_mapping = {\n",
    "    'B-': 0,\n",
    "    'B': 20,\n",
    "    'B+': 40,\n",
    "    'A-': 60,\n",
    "    'A': 80,\n",
    "    'A+': 100\n",
    "}\n",
    "\n",
    "# Replace letter grades\n",
    "last_clean['results_reporting'] = last_clean['results_reporting'].replace(grade_mapping)"
   ]
  },
  {
   "cell_type": "code",
   "execution_count": 21,
   "id": "75352aad",
   "metadata": {},
   "outputs": [],
   "source": [
    "# Map financial transparency\n",
    "transparency_mapping = {\n",
    "    0: 0,\n",
    "    1: 50,\n",
    "    2: 100\n",
    "}\n",
    "\n",
    "# Replace letter grades\n",
    "last_clean['financial_transparency'] = last_clean['financial_transparency'].replace(transparency_mapping)"
   ]
  },
  {
   "cell_type": "code",
   "execution_count": 22,
   "id": "cde76401",
   "metadata": {
    "scrolled": true
   },
   "outputs": [],
   "source": [
    "# Remove the percentage sign from the \"cents_to_cause\" column\n",
    "last_clean['cents_to_cause'] = last_clean['cents_to_cause'].str.replace('%', '')"
   ]
  },
  {
   "cell_type": "code",
   "execution_count": 23,
   "id": "bd7f4bf8",
   "metadata": {},
   "outputs": [
    {
     "name": "stdout",
     "output_type": "stream",
     "text": [
      "DataFrame converted to CSV and saved successfully.\n"
     ]
    }
   ],
   "source": [
    "csv_filename = 'final.csv'\n",
    "last_clean.to_csv(csv_filename, index=False)\n",
    "\n",
    "print(\"DataFrame converted to CSV and saved successfully.\")"
   ]
  }
 ],
 "metadata": {
  "kernelspec": {
   "display_name": "Python 3 (ipykernel)",
   "language": "python",
   "name": "python3"
  },
  "language_info": {
   "codemirror_mode": {
    "name": "ipython",
    "version": 3
   },
   "file_extension": ".py",
   "mimetype": "text/x-python",
   "name": "python",
   "nbconvert_exporter": "python",
   "pygments_lexer": "ipython3",
   "version": "3.8.5"
  }
 },
 "nbformat": 4,
 "nbformat_minor": 5
}
